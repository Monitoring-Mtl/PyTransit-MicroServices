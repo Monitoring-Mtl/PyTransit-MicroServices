{
 "cells": [
  {
   "cell_type": "code",
   "execution_count": null,
   "metadata": {},
   "outputs": [],
   "source": [
    "%cd ../.."
   ]
  },
  {
   "cell_type": "code",
   "execution_count": 6,
   "metadata": {},
   "outputs": [],
   "source": [
    "import os\n",
    "from pprint import pprint\n",
    "from pymongo import MongoClient\n",
    "\n",
    "from BIXI_Services.BIXI_Historical_Data_Checker.main import handler as checker_handler\n",
    "from BIXI_Services.BIXI_Historical_Data_Processor.main import Config\n",
    "from BIXI_Services.BIXI_Historical_Data_Processor.main import async_handler as processor_handler\n",
    "\n",
    "from dotenv import load_dotenv\n"
   ]
  },
  {
   "cell_type": "code",
   "execution_count": 7,
   "metadata": {},
   "outputs": [],
   "source": [
    "load_dotenv()\n",
    "# os.environ[\"ATLAS_URI\"] = \n",
    "os.environ[\"MONGO_DATABASE_NAME\"] = \"prod-monitoring-mtl\"\n",
    "os.environ[\"BIXI_URL_COLLECTION\"] = \"historic_data_urls\"\n",
    "os.environ[\"BIXI_LOCATION_COLLECTION\"] = \"station_locations\"\n",
    "os.environ[\"BIXI_TRIP_COLLECTION\"] = \"trips\"\n",
    "os.environ[\"BIXI_DATA_URL\"] = \"https://bixi.com/en/open-data\"\n",
    "os.environ[\"BIXI_CDN\"] = \"https://s3.ca-central-1.amazonaws.com/cdn.bixi.com/\"\n",
    "os.environ[\"BIXI_DEFAULT_EXTRACT_PATH\"] = \"/tmp/data/\"\n",
    "os.environ[\"BIXI_CHUNK_SIZE\"] = \"500000\"\n",
    "os.environ[\"BIXI_CONCURRENCY\"] = \"8\"\n",
    "os.environ[\"BIXI_QUEUE_SIZE\"] = \"1\""
   ]
  },
  {
   "cell_type": "markdown",
   "metadata": {},
   "source": [
    "# Historical data initial db operations"
   ]
  },
  {
   "cell_type": "markdown",
   "metadata": {},
   "source": [
    "## Initialize DB objects\n",
    "\n",
    "‼️ `db.drop_collection(collection_name)` deletes all data."
   ]
  },
  {
   "cell_type": "code",
   "execution_count": 8,
   "metadata": {},
   "outputs": [],
   "source": [
    "config = Config(**os.environ)\n",
    "client = MongoClient(config.ATLAS_URI)\n",
    "db = client[config.MONGO_DATABASE_NAME]\n",
    "for collection_name in db.list_collection_names():\n",
    "    db.drop_collection(collection_name)"
   ]
  },
  {
   "cell_type": "code",
   "execution_count": 9,
   "metadata": {},
   "outputs": [
    {
     "data": {
      "text/plain": [
       "'test-monitoring-mtlggggggggggg'"
      ]
     },
     "execution_count": 9,
     "metadata": {},
     "output_type": "execute_result"
    }
   ],
   "source": [
    "os.environ[\"BIXI_DEFAULT_EXTRACT_PATH\"]\n",
    "os.environ[\"MONGO_DATABASE_NAME\"]"
   ]
  },
  {
   "cell_type": "markdown",
   "metadata": {},
   "source": [
    "## Get the urls"
   ]
  },
  {
   "cell_type": "code",
   "execution_count": 5,
   "metadata": {},
   "outputs": [
    {
     "name": "stdout",
     "output_type": "stream",
     "text": [
      "checking for new historic data..\n",
      "scraped_urls {2014: 'https://s3.ca-central-1.amazonaws.com/cdn.bixi.com/wp-content/uploads/2023/06/Historique-BIXI-2014.zip', 2015: 'https://s3.ca-central-1.amazonaws.com/cdn.bixi.com/wp-content/uploads/2023/06/Historique-BIXI-2015.zip', 2016: 'https://s3.ca-central-1.amazonaws.com/cdn.bixi.com/wp-content/uploads/2023/06/Historique-BIXI-2016.zip', 2017: 'https://s3.ca-central-1.amazonaws.com/cdn.bixi.com/wp-content/uploads/2023/06/Historique-BIXI-2017.zip', 2018: 'https://s3.ca-central-1.amazonaws.com/cdn.bixi.com/wp-content/uploads/2023/06/Historique-BIXI-2018.zip', 2019: 'https://s3.ca-central-1.amazonaws.com/cdn.bixi.com/wp-content/uploads/2023/06/Historique-BIXI-2019.zip', 2020: 'https://s3.ca-central-1.amazonaws.com/cdn.bixi.com/wp-content/uploads/2023/06/Historique-BIXI-2020.zip', 2021: 'https://s3.ca-central-1.amazonaws.com/cdn.bixi.com/wp-content/uploads/2023/06/Historique-BIXI-2021.zip', 2022: 'https://s3.ca-central-1.amazonaws.com/cdn.bixi.com/wp-content/uploads/2023/08/DonneesOuverte2022.zip', 2023: 'https://s3.ca-central-1.amazonaws.com/cdn.bixi.com/wp-content/uploads/2024/01/DonneesOuvertes2023_12.zip', 2024: 'https://s3.ca-central-1.amazonaws.com/cdn.bixi.com/wp-content/uploads/2024/03/DonneesOuvertes2024_0102.zip'}\n",
      "finished checking for new historic data successfully.\n",
      "new urls: {2014: 'https://s3.ca-central-1.amazonaws.com/cdn.bixi.com/wp-content/uploads/2023/06/Historique-BIXI-2014.zip', 2015: 'https://s3.ca-central-1.amazonaws.com/cdn.bixi.com/wp-content/uploads/2023/06/Historique-BIXI-2015.zip', 2016: 'https://s3.ca-central-1.amazonaws.com/cdn.bixi.com/wp-content/uploads/2023/06/Historique-BIXI-2016.zip', 2017: 'https://s3.ca-central-1.amazonaws.com/cdn.bixi.com/wp-content/uploads/2023/06/Historique-BIXI-2017.zip', 2018: 'https://s3.ca-central-1.amazonaws.com/cdn.bixi.com/wp-content/uploads/2023/06/Historique-BIXI-2018.zip', 2019: 'https://s3.ca-central-1.amazonaws.com/cdn.bixi.com/wp-content/uploads/2023/06/Historique-BIXI-2019.zip', 2020: 'https://s3.ca-central-1.amazonaws.com/cdn.bixi.com/wp-content/uploads/2023/06/Historique-BIXI-2020.zip', 2021: 'https://s3.ca-central-1.amazonaws.com/cdn.bixi.com/wp-content/uploads/2023/06/Historique-BIXI-2021.zip', 2022: 'https://s3.ca-central-1.amazonaws.com/cdn.bixi.com/wp-content/uploads/2023/08/DonneesOuverte2022.zip', 2023: 'https://s3.ca-central-1.amazonaws.com/cdn.bixi.com/wp-content/uploads/2024/01/DonneesOuvertes2023_12.zip', 2024: 'https://s3.ca-central-1.amazonaws.com/cdn.bixi.com/wp-content/uploads/2024/03/DonneesOuvertes2024_0102.zip'}\n",
      "{2014: 'https://s3.ca-central-1.amazonaws.com/cdn.bixi.com/wp-content/uploads/2023/06/Historique-BIXI-2014.zip',\n",
      " 2015: 'https://s3.ca-central-1.amazonaws.com/cdn.bixi.com/wp-content/uploads/2023/06/Historique-BIXI-2015.zip',\n",
      " 2016: 'https://s3.ca-central-1.amazonaws.com/cdn.bixi.com/wp-content/uploads/2023/06/Historique-BIXI-2016.zip',\n",
      " 2017: 'https://s3.ca-central-1.amazonaws.com/cdn.bixi.com/wp-content/uploads/2023/06/Historique-BIXI-2017.zip',\n",
      " 2018: 'https://s3.ca-central-1.amazonaws.com/cdn.bixi.com/wp-content/uploads/2023/06/Historique-BIXI-2018.zip',\n",
      " 2019: 'https://s3.ca-central-1.amazonaws.com/cdn.bixi.com/wp-content/uploads/2023/06/Historique-BIXI-2019.zip',\n",
      " 2020: 'https://s3.ca-central-1.amazonaws.com/cdn.bixi.com/wp-content/uploads/2023/06/Historique-BIXI-2020.zip',\n",
      " 2021: 'https://s3.ca-central-1.amazonaws.com/cdn.bixi.com/wp-content/uploads/2023/06/Historique-BIXI-2021.zip',\n",
      " 2022: 'https://s3.ca-central-1.amazonaws.com/cdn.bixi.com/wp-content/uploads/2023/08/DonneesOuverte2022.zip',\n",
      " 2023: 'https://s3.ca-central-1.amazonaws.com/cdn.bixi.com/wp-content/uploads/2024/01/DonneesOuvertes2023_12.zip',\n",
      " 2024: 'https://s3.ca-central-1.amazonaws.com/cdn.bixi.com/wp-content/uploads/2024/03/DonneesOuvertes2024_0102.zip'}\n"
     ]
    }
   ],
   "source": [
    "checker_results = checker_handler(None, None)\n",
    "urls = checker_results[\"urls\"]\n",
    "pprint(urls)"
   ]
  },
  {
   "cell_type": "markdown",
   "metadata": {},
   "source": [
    "## ETL\n",
    "\n",
    "The format of the historic data have changed over the years. We've implemented an ETL strategy for the current format which is in effect since 2022. Urls for prior years will not be processed until we've created appropriate ETL strategies and configured them in `BIXI_Services.BIXI_Historical_Data_Processor.etl.transform_load.context` module."
   ]
  },
  {
   "cell_type": "code",
   "execution_count": 6,
   "metadata": {},
   "outputs": [
    {
     "name": "stdout",
     "output_type": "stream",
     "text": [
      "historic data processing started.\n",
      "ETL process started for URL: https://s3.ca-central-1.amazonaws.com/cdn.bixi.com/wp-content/uploads/2023/06/Historique-BIXI-2014.zip\n",
      "start download and extract https://s3.ca-central-1.amazonaws.com/cdn.bixi.com/wp-content/uploads/2023/06/Historique-BIXI-2014.zip\n",
      "extracted files: ['/Users/kochiallagbe/Documents/GitHub/PyTransit-MicroServices/tmp/data/BixiMontrealRentals2014/OD_2014-04.csv', '/Users/kochiallagbe/Documents/GitHub/PyTransit-MicroServices/tmp/data/BixiMontrealRentals2014/OD_2014-05.csv', '/Users/kochiallagbe/Documents/GitHub/PyTransit-MicroServices/tmp/data/BixiMontrealRentals2014/OD_2014-06.csv', '/Users/kochiallagbe/Documents/GitHub/PyTransit-MicroServices/tmp/data/BixiMontrealRentals2014/OD_2014-07.csv', '/Users/kochiallagbe/Documents/GitHub/PyTransit-MicroServices/tmp/data/BixiMontrealRentals2014/OD_2014-08.csv', '/Users/kochiallagbe/Documents/GitHub/PyTransit-MicroServices/tmp/data/BixiMontrealRentals2014/OD_2014-09.csv', '/Users/kochiallagbe/Documents/GitHub/PyTransit-MicroServices/tmp/data/BixiMontrealRentals2014/OD_2014-10.csv', '/Users/kochiallagbe/Documents/GitHub/PyTransit-MicroServices/tmp/data/BixiMontrealRentals2014/OD_2014-11.csv', '/Users/kochiallagbe/Documents/GitHub/PyTransit-MicroServices/tmp/data/BixiMontrealRentals2014/Stations_2014.csv']\n",
      "strategy not implemented for year 2014\n",
      "ETL process started for URL: https://s3.ca-central-1.amazonaws.com/cdn.bixi.com/wp-content/uploads/2023/06/Historique-BIXI-2015.zip\n",
      "start download and extract https://s3.ca-central-1.amazonaws.com/cdn.bixi.com/wp-content/uploads/2023/06/Historique-BIXI-2015.zip\n",
      "extracted files: ['/Users/kochiallagbe/Documents/GitHub/PyTransit-MicroServices/tmp/data/BixiMontrealRentals2015/OD_2015-04.csv', '/Users/kochiallagbe/Documents/GitHub/PyTransit-MicroServices/tmp/data/BixiMontrealRentals2015/OD_2015-05.csv', '/Users/kochiallagbe/Documents/GitHub/PyTransit-MicroServices/tmp/data/BixiMontrealRentals2015/OD_2015-06.csv', '/Users/kochiallagbe/Documents/GitHub/PyTransit-MicroServices/tmp/data/BixiMontrealRentals2015/OD_2015-07.csv', '/Users/kochiallagbe/Documents/GitHub/PyTransit-MicroServices/tmp/data/BixiMontrealRentals2015/OD_2015-08.csv', '/Users/kochiallagbe/Documents/GitHub/PyTransit-MicroServices/tmp/data/BixiMontrealRentals2015/OD_2015-09.csv', '/Users/kochiallagbe/Documents/GitHub/PyTransit-MicroServices/tmp/data/BixiMontrealRentals2015/OD_2015-10.csv', '/Users/kochiallagbe/Documents/GitHub/PyTransit-MicroServices/tmp/data/BixiMontrealRentals2015/OD_2015-11.csv', '/Users/kochiallagbe/Documents/GitHub/PyTransit-MicroServices/tmp/data/BixiMontrealRentals2015/Stations_2015.csv']\n",
      "strategy not implemented for year 2015\n",
      "ETL process started for URL: https://s3.ca-central-1.amazonaws.com/cdn.bixi.com/wp-content/uploads/2023/06/Historique-BIXI-2016.zip\n",
      "start download and extract https://s3.ca-central-1.amazonaws.com/cdn.bixi.com/wp-content/uploads/2023/06/Historique-BIXI-2016.zip\n",
      "extracted files: ['/Users/kochiallagbe/Documents/GitHub/PyTransit-MicroServices/tmp/data/BixiMontrealRentals2016/OD_2016-04.csv', '/Users/kochiallagbe/Documents/GitHub/PyTransit-MicroServices/tmp/data/BixiMontrealRentals2016/OD_2016-05.csv', '/Users/kochiallagbe/Documents/GitHub/PyTransit-MicroServices/tmp/data/BixiMontrealRentals2016/OD_2016-06.csv', '/Users/kochiallagbe/Documents/GitHub/PyTransit-MicroServices/tmp/data/BixiMontrealRentals2016/OD_2016-07.csv', '/Users/kochiallagbe/Documents/GitHub/PyTransit-MicroServices/tmp/data/BixiMontrealRentals2016/OD_2016-08.csv', '/Users/kochiallagbe/Documents/GitHub/PyTransit-MicroServices/tmp/data/BixiMontrealRentals2016/OD_2016-09.csv', '/Users/kochiallagbe/Documents/GitHub/PyTransit-MicroServices/tmp/data/BixiMontrealRentals2016/OD_2016-10.csv', '/Users/kochiallagbe/Documents/GitHub/PyTransit-MicroServices/tmp/data/BixiMontrealRentals2016/OD_2016-11.csv', '/Users/kochiallagbe/Documents/GitHub/PyTransit-MicroServices/tmp/data/BixiMontrealRentals2016/Stations_2016.csv']\n",
      "strategy not implemented for year 2016\n",
      "ETL process started for URL: https://s3.ca-central-1.amazonaws.com/cdn.bixi.com/wp-content/uploads/2023/06/Historique-BIXI-2017.zip\n",
      "start download and extract https://s3.ca-central-1.amazonaws.com/cdn.bixi.com/wp-content/uploads/2023/06/Historique-BIXI-2017.zip\n",
      "extracted files: ['/Users/kochiallagbe/Documents/GitHub/PyTransit-MicroServices/tmp/data/2017/OD_2017-04.csv', '/Users/kochiallagbe/Documents/GitHub/PyTransit-MicroServices/tmp/data/2017/OD_2017-05.csv', '/Users/kochiallagbe/Documents/GitHub/PyTransit-MicroServices/tmp/data/2017/OD_2017-06.csv', '/Users/kochiallagbe/Documents/GitHub/PyTransit-MicroServices/tmp/data/2017/OD_2017-07.csv', '/Users/kochiallagbe/Documents/GitHub/PyTransit-MicroServices/tmp/data/2017/OD_2017-08.csv', '/Users/kochiallagbe/Documents/GitHub/PyTransit-MicroServices/tmp/data/2017/OD_2017-09.csv', '/Users/kochiallagbe/Documents/GitHub/PyTransit-MicroServices/tmp/data/2017/OD_2017-10.csv', '/Users/kochiallagbe/Documents/GitHub/PyTransit-MicroServices/tmp/data/2017/OD_2017-11.csv', '/Users/kochiallagbe/Documents/GitHub/PyTransit-MicroServices/tmp/data/2017/Stations_2017.csv']\n",
      "strategy not implemented for year 2017\n",
      "ETL process started for URL: https://s3.ca-central-1.amazonaws.com/cdn.bixi.com/wp-content/uploads/2023/06/Historique-BIXI-2018.zip\n",
      "start download and extract https://s3.ca-central-1.amazonaws.com/cdn.bixi.com/wp-content/uploads/2023/06/Historique-BIXI-2018.zip\n",
      "extracted files: ['/Users/kochiallagbe/Documents/GitHub/PyTransit-MicroServices/tmp/data/OD_2018-04.csv', '/Users/kochiallagbe/Documents/GitHub/PyTransit-MicroServices/tmp/data/OD_2018-05.csv', '/Users/kochiallagbe/Documents/GitHub/PyTransit-MicroServices/tmp/data/OD_2018-06.csv', '/Users/kochiallagbe/Documents/GitHub/PyTransit-MicroServices/tmp/data/OD_2018-07.csv', '/Users/kochiallagbe/Documents/GitHub/PyTransit-MicroServices/tmp/data/OD_2018-08.csv', '/Users/kochiallagbe/Documents/GitHub/PyTransit-MicroServices/tmp/data/OD_2018-09.csv', '/Users/kochiallagbe/Documents/GitHub/PyTransit-MicroServices/tmp/data/OD_2018-10.csv', '/Users/kochiallagbe/Documents/GitHub/PyTransit-MicroServices/tmp/data/OD_2018-11.csv', '/Users/kochiallagbe/Documents/GitHub/PyTransit-MicroServices/tmp/data/Stations_2018.csv']\n",
      "strategy not implemented for year 2018\n",
      "ETL process started for URL: https://s3.ca-central-1.amazonaws.com/cdn.bixi.com/wp-content/uploads/2023/06/Historique-BIXI-2019.zip\n",
      "start download and extract https://s3.ca-central-1.amazonaws.com/cdn.bixi.com/wp-content/uploads/2023/06/Historique-BIXI-2019.zip\n",
      "extracted files: ['/Users/kochiallagbe/Documents/GitHub/PyTransit-MicroServices/tmp/data/OD_2019-04.csv', '/Users/kochiallagbe/Documents/GitHub/PyTransit-MicroServices/tmp/data/OD_2019-05.csv', '/Users/kochiallagbe/Documents/GitHub/PyTransit-MicroServices/tmp/data/OD_2019-06.csv', '/Users/kochiallagbe/Documents/GitHub/PyTransit-MicroServices/tmp/data/OD_2019-07.csv', '/Users/kochiallagbe/Documents/GitHub/PyTransit-MicroServices/tmp/data/OD_2019-08.csv', '/Users/kochiallagbe/Documents/GitHub/PyTransit-MicroServices/tmp/data/OD_2019-09.csv', '/Users/kochiallagbe/Documents/GitHub/PyTransit-MicroServices/tmp/data/OD_2019-10.csv', '/Users/kochiallagbe/Documents/GitHub/PyTransit-MicroServices/tmp/data/Stations_2019.csv']\n",
      "strategy not implemented for year 2019\n",
      "ETL process started for URL: https://s3.ca-central-1.amazonaws.com/cdn.bixi.com/wp-content/uploads/2023/06/Historique-BIXI-2020.zip\n",
      "start download and extract https://s3.ca-central-1.amazonaws.com/cdn.bixi.com/wp-content/uploads/2023/06/Historique-BIXI-2020.zip\n",
      "extracted files: ['/Users/kochiallagbe/Documents/GitHub/PyTransit-MicroServices/tmp/data/OD_2020.csv', '/Users/kochiallagbe/Documents/GitHub/PyTransit-MicroServices/tmp/data/stations.csv']\n",
      "strategy not implemented for year 2020\n",
      "ETL process started for URL: https://s3.ca-central-1.amazonaws.com/cdn.bixi.com/wp-content/uploads/2023/06/Historique-BIXI-2021.zip\n",
      "start download and extract https://s3.ca-central-1.amazonaws.com/cdn.bixi.com/wp-content/uploads/2023/06/Historique-BIXI-2021.zip\n",
      "extracted files: ['/Users/kochiallagbe/Documents/GitHub/PyTransit-MicroServices/tmp/data/2021_donnees_ouvertes.csv', '/Users/kochiallagbe/Documents/GitHub/PyTransit-MicroServices/tmp/data/2021_stations.csv']\n",
      "strategy not implemented for year 2021\n",
      "ETL process started for URL: https://s3.ca-central-1.amazonaws.com/cdn.bixi.com/wp-content/uploads/2023/08/DonneesOuverte2022.zip\n",
      "start download and extract https://s3.ca-central-1.amazonaws.com/cdn.bixi.com/wp-content/uploads/2023/08/DonneesOuverte2022.zip\n",
      "extracted files: ['/Users/kochiallagbe/Documents/GitHub/PyTransit-MicroServices/tmp/data/DonneesOuverte2022.csv']\n",
      "Starting processing: /Users/kochiallagbe/Documents/GitHub/PyTransit-MicroServices/tmp/data/DonneesOuverte2022.csv\n",
      "saved: https://s3.ca-central-1.amazonaws.com/cdn.bixi.com/wp-content/uploads/2023/08/DonneesOuverte2022.zip\n",
      "ETL process started for URL: https://s3.ca-central-1.amazonaws.com/cdn.bixi.com/wp-content/uploads/2024/01/DonneesOuvertes2023_12.zip\n",
      "start download and extract https://s3.ca-central-1.amazonaws.com/cdn.bixi.com/wp-content/uploads/2024/01/DonneesOuvertes2023_12.zip\n",
      "extracted files: ['/Users/kochiallagbe/Documents/GitHub/PyTransit-MicroServices/tmp/data/DonneesOuvertes (1).csv']\n",
      "Starting processing: /Users/kochiallagbe/Documents/GitHub/PyTransit-MicroServices/tmp/data/DonneesOuvertes (1).csv\n",
      "saved: https://s3.ca-central-1.amazonaws.com/cdn.bixi.com/wp-content/uploads/2024/01/DonneesOuvertes2023_12.zip\n",
      "ETL process started for URL: https://s3.ca-central-1.amazonaws.com/cdn.bixi.com/wp-content/uploads/2024/03/DonneesOuvertes2024_0102.zip\n",
      "start download and extract https://s3.ca-central-1.amazonaws.com/cdn.bixi.com/wp-content/uploads/2024/03/DonneesOuvertes2024_0102.zip\n",
      "extracted files: ['/Users/kochiallagbe/Documents/GitHub/PyTransit-MicroServices/tmp/data/DonneesOuvertes2024_0102.csv']\n",
      "Starting processing: /Users/kochiallagbe/Documents/GitHub/PyTransit-MicroServices/tmp/data/DonneesOuvertes2024_0102.csv\n",
      "saved: https://s3.ca-central-1.amazonaws.com/cdn.bixi.com/wp-content/uploads/2024/03/DonneesOuvertes2024_0102.zip\n",
      "historic data processed successfully at 2024-04-02T02:20:42.057542.\n",
      "{'filenames': '[[], [], [], [], [], [], [], [], '\n",
      "              \"['/Users/kochiallagbe/Documents/GitHub/PyTransit-MicroServices/tmp/data/DonneesOuverte2022.csv'], \"\n",
      "              \"['/Users/kochiallagbe/Documents/GitHub/PyTransit-MicroServices/tmp/data/DonneesOuvertes \"\n",
      "              \"(1).csv'], \"\n",
      "              \"['/Users/kochiallagbe/Documents/GitHub/PyTransit-MicroServices/tmp/data/DonneesOuvertes2024_0102.csv']]\",\n",
      " 'status': 'Success'}\n"
     ]
    }
   ],
   "source": [
    "if urls:\n",
    "    processor_results = await processor_handler({\"urls\": urls}, None)\n",
    "    pprint(processor_results)"
   ]
  },
  {
   "cell_type": "markdown",
   "metadata": {},
   "source": [
    "## Creating indexes\n",
    "\n",
    "For [UC006](https://github.com/Monitoring-Mtl/Frontend/issues/114), aggregations will be frequently performed on the `DURATIONMS` columns. For that reason, we create an index on `DURATIONSMS` for faster lookups. Depending on the use case, more columns can be indexed."
   ]
  },
  {
   "cell_type": "code",
   "execution_count": 7,
   "metadata": {},
   "outputs": [
    {
     "data": {
      "text/plain": [
       "'DURATIONMS_1'"
      ]
     },
     "execution_count": 7,
     "metadata": {},
     "output_type": "execute_result"
    }
   ],
   "source": [
    "db[config.BIXI_TRIP_COLLECTION].create_index(\"DURATIONMS\")\n",
    "# db[config.BIXI_TRIP_COLLECTION].create_index(\"STARTTIMEMS\")\n",
    "# db[config.BIXI_TRIP_COLLECTION].create_index(\"ENDTIMEMS\")"
   ]
  },
  {
   "cell_type": "markdown",
   "metadata": {},
   "source": [
    "## DB statistics"
   ]
  },
  {
   "cell_type": "code",
   "execution_count": 8,
   "metadata": {},
   "outputs": [
    {
     "name": "stdout",
     "output_type": "stream",
     "text": [
      "Collection: trips as of 2024-04-02 02:21:05\n",
      "Collection: trips\n",
      "Storage size: 1.3GiB\n",
      "Documents: 20883589\n",
      "Avg. document size: 178.0B\n",
      "Indexes: 2\n",
      "Total index size: 400.4MiB\n",
      "\n",
      "Collection: station_locations as of 2024-04-02 02:21:05\n",
      "Collection: station_locations\n",
      "Storage size: 124.0KiB\n",
      "Documents: 1103\n",
      "Avg. document size: 119.0B\n",
      "Indexes: 1\n",
      "Total index size: 92.0KiB\n",
      "\n",
      "Collection: historic_data_urls as of 2024-04-02 02:21:05\n",
      "Collection: historic_data_urls\n",
      "Storage size: 20.0KiB\n",
      "Documents: 3\n",
      "Avg. document size: 128.0B\n",
      "Indexes: 1\n",
      "Total index size: 20.0KiB\n",
      "\n"
     ]
    }
   ],
   "source": [
    "import datetime\n",
    "\n",
    "\n",
    "def sizeof_fmt(num, suffix='B'):\n",
    "    for unit in ['','Ki','Mi','Gi','Ti','Pi','Ei','Zi']:\n",
    "        if abs(num) < 1024.0:\n",
    "            return f\"{num:3.1f}{unit}{suffix}\"\n",
    "        num /= 1024.0\n",
    "    return f\"{num:.1f}Yi{suffix}\"\n",
    "\n",
    "for collection_name in db.list_collection_names():\n",
    "    current_time = datetime.datetime.now().strftime(\"%Y-%m-%d %H:%M:%S\")\n",
    "    print(f\"Collection: {collection_name} as of {current_time}\")\n",
    "    stats = db.command(\"collStats\", collection_name)\n",
    "    print(f\"Collection: {collection_name}\")\n",
    "    print(f\"Storage size: {sizeof_fmt(stats['storageSize'])}\")\n",
    "    print(f\"Documents: {stats['count']}\")\n",
    "    print(f\"Avg. document size: {sizeof_fmt(stats['avgObjSize'])}\")\n",
    "    print(f\"Indexes: {stats['nindexes']}\")\n",
    "    print(f\"Total index size: {sizeof_fmt(stats['totalIndexSize'])}\\n\")"
   ]
  }
 ],
 "metadata": {
  "kernelspec": {
   "display_name": "pytransit",
   "language": "python",
   "name": "python3"
  },
  "language_info": {
   "codemirror_mode": {
    "name": "ipython",
    "version": 3
   },
   "file_extension": ".py",
   "mimetype": "text/x-python",
   "name": "python",
   "nbconvert_exporter": "python",
   "pygments_lexer": "ipython3",
   "version": "3.11.8"
  }
 },
 "nbformat": 4,
 "nbformat_minor": 2
}
