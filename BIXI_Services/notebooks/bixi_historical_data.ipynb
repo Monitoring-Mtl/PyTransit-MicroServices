{
 "cells": [
  {
   "cell_type": "markdown",
   "metadata": {},
   "source": [
    "# Bixi historical data\n",
    "\n",
    "We will use a `128MB` lambda to check if there is new historic data monthly (yearly if we want) and a `8GB` lambda to unzip, transform and load the data to our database. For the scheduling we use AWS Step Functions.\n",
    "\n",
    "## Step function: `BixiHistoricDataWorkflow`\n",
    "\n",
    "![stepfunctionsequece](./img/stepfunctionsequence.png)\n"
   ]
  },
  {
   "cell_type": "markdown",
   "metadata": {},
   "source": [
    "## Bixi historical data checker\n",
    "\n",
    "![checkersequence](./img/checkersequence.png)"
   ]
  },
  {
   "cell_type": "markdown",
   "metadata": {},
   "source": [
    "## Bixi historical data processor\n",
    "\n",
    "### Data model\n",
    "\n",
    "![csv](img/csv.png)\n",
    "\n",
    "Trip duration average requires individual trip durations. These can be computed before loading the data in db.\n",
    "\n",
    "Station names are actually their location. And because stations might change name (location) over time, it's best if we use locations in the models.\n",
    "\n",
    "![model](img/model.png)\n",
    "\n",
    "For simplicity, we'll use the location names as id.\n",
    "\n"
   ]
  },
  {
   "cell_type": "markdown",
   "metadata": {},
   "source": [
    "### ETL sequence\n",
    "\n",
    "![processorsequence](./img/processorsequence.png)\n",
    "\n"
   ]
  },
  {
   "cell_type": "markdown",
   "metadata": {},
   "source": [
    "### Transform & Load strategies\n",
    "\n",
    "Because the historical data format changes over the year, we chose to use the strategy pattern to handle the transform and load process based on the year.\n",
    "\n",
    "![strategyclass](./img/strategyclass.png)\n",
    "\n",
    "![strategysequence](./img/strategysequence.png)\n",
    "\n"
   ]
  },
  {
   "cell_type": "markdown",
   "metadata": {},
   "source": [
    "### TransformLoad2022 strategy\n",
    "\n",
    "From year 2022 onward, the data format is the following.\n",
    "\n",
    "![csv](img/csv.png)\n",
    "\n",
    "We implemented the strategy as follows.\n",
    "\n",
    "![transformload2022](img/transformload2022.png)\n",
    "\n"
   ]
  }
 ],
 "metadata": {
  "language_info": {
   "name": "python"
  }
 },
 "nbformat": 4,
 "nbformat_minor": 2
}
