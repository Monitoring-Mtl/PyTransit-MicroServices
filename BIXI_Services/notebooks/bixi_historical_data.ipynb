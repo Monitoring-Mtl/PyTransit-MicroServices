{
 "cells": [
  {
   "cell_type": "markdown",
   "metadata": {},
   "source": [
    "# Bixi historical data\n",
    "\n",
    "We will use a `128MB` lambda to check if there is new historic data monthly (yearly if we want) and a `8GB` lambda to unzip, transform and load the data to our database. For the scheduling we use AWS Step Functions.\n",
    "\n",
    "## Step function: `BixiHistoricDataWorkflow`\n",
    "\n",
    "![stepfunctionsequece](./img/stepfunctionsequence.png)\n",
    "\n",
    "\n",
    "## Bixi historical data checker\n",
    "\n",
    "![checkersequence](./img/checkersequence.png)\n",
    "\n",
    "## Bixi historical data processor\n",
    "\n",
    "![processorsequence](./img/processorsequence.png)\n",
    "\n",
    "Because the historical data format changes over the year, we chose to use the strategy pattern to handle the transform and load process based on the year.\n",
    "\n",
    "![strategysequence](./img/strategysequence.png)\n",
    "\n",
    "![strategyclass](./img/strategyclass.png)\n",
    "\n",
    "\n"
   ]
  }
 ],
 "metadata": {
  "language_info": {
   "name": "python"
  }
 },
 "nbformat": 4,
 "nbformat_minor": 2
}
