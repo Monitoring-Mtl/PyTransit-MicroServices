{
 "cells": [
  {
   "cell_type": "code",
   "execution_count": 9,
   "id": "0418fa0c-fc00-46a3-a7f5-1ae7b15582b4",
   "metadata": {},
   "outputs": [],
   "source": [
    "from bs4 import BeautifulSoup\n",
    "from urllib.request import urlopen\n",
    "import  re"
   ]
  },
  {
   "cell_type": "code",
   "execution_count": null,
   "id": "df251168-62e8-4ed3-9eae-b0eadb1acc79",
   "metadata": {},
   "outputs": [],
   "source": [
    "url = \"https://bixi.com/en/open-data/\"\n",
    "page = urlopen(url)\n",
    "html_bytes = page.read()\n",
    "html = html_bytes.decode(\"utf-8\")"
   ]
  },
  {
   "cell_type": "code",
   "execution_count": 11,
   "id": "e37c02b8-7ef3-4ada-b4be-8733d3d9b03d",
   "metadata": {},
   "outputs": [],
   "source": [
    "soup = BeautifulSoup(html, \"html.parser\")"
   ]
  },
  {
   "cell_type": "code",
   "execution_count": 26,
   "id": "8014197b-33c0-49e4-b974-0efff862739c",
   "metadata": {},
   "outputs": [
    {
     "name": "stdout",
     "output_type": "stream",
     "text": [
      "Found the URL: https://s3.ca-central-1.amazonaws.com/cdn.bixi.com/wp-content/uploads/2024/03/DonneesOuvertes2024_0102.zip\n",
      "Found the URL: https://s3.ca-central-1.amazonaws.com/cdn.bixi.com/wp-content/uploads/2024/01/DonneesOuvertes2023_12.zip\n",
      "Found the URL: https://s3.ca-central-1.amazonaws.com/cdn.bixi.com/wp-content/uploads/2023/08/DonneesOuverte2022.zip\n",
      "Found the URL: https://s3.ca-central-1.amazonaws.com/cdn.bixi.com/wp-content/uploads/2023/06/Historique-BIXI-2021.zip\n",
      "Found the URL: https://s3.ca-central-1.amazonaws.com/cdn.bixi.com/wp-content/uploads/2023/06/Historique-BIXI-2020.zip\n",
      "Found the URL: https://s3.ca-central-1.amazonaws.com/cdn.bixi.com/wp-content/uploads/2023/06/Historique-BIXI-2019.zip\n",
      "Found the URL: https://s3.ca-central-1.amazonaws.com/cdn.bixi.com/wp-content/uploads/2023/06/Historique-BIXI-2018.zip\n",
      "Found the URL: https://s3.ca-central-1.amazonaws.com/cdn.bixi.com/wp-content/uploads/2023/06/Historique-BIXI-2017.zip\n",
      "Found the URL: https://s3.ca-central-1.amazonaws.com/cdn.bixi.com/wp-content/uploads/2023/06/Historique-BIXI-2016.zip\n",
      "Found the URL: https://s3.ca-central-1.amazonaws.com/cdn.bixi.com/wp-content/uploads/2023/06/Historique-BIXI-2015.zip\n",
      "Found the URL: https://s3.ca-central-1.amazonaws.com/cdn.bixi.com/wp-content/uploads/2023/06/Historique-BIXI-2014.zip\n"
     ]
    }
   ],
   "source": [
    "for a in soup.find_all(\"a\",['a.button','button-primary'],href=True):\n",
    "    pattern = \"https://s3.ca-central-1.amazonaws.com/cdn.bixi.com/*\"\n",
    "    match_results = re.search(pattern, a['href'], re.IGNORECASE)\n",
    "    if(match_results):\n",
    "        print (\"Found the URL:\", a['href'])"
   ]
  },
  {
   "cell_type": "code",
   "execution_count": 4,
   "id": "cae13a13-08c5-4db2-82a2-52978440278b",
   "metadata": {},
   "outputs": [
    {
     "data": {
      "text/plain": [
       "-1"
      ]
     },
     "execution_count": 4,
     "metadata": {},
     "output_type": "execute_result"
    }
   ],
   "source": [
    "pattern = \"https://s3.ca-central-1.amazonaws.com/cdn.bixi.com/*\"\n",
    "match_results = re.search(pattern, a['href'], re.IGNORECASE)\n"
   ]
  },
  {
   "cell_type": "code",
   "execution_count": null,
   "id": "fc9a78d1-6698-45fb-8cb4-dbbe0b173b8d",
   "metadata": {},
   "outputs": [],
   "source": []
  }
 ],
 "metadata": {
  "kernelspec": {
   "display_name": "Python 3 (ipykernel)",
   "language": "python",
   "name": "python3"
  },
  "language_info": {
   "codemirror_mode": {
    "name": "ipython",
    "version": 3
   },
   "file_extension": ".py",
   "mimetype": "text/x-python",
   "name": "python",
   "nbconvert_exporter": "python",
   "pygments_lexer": "ipython3",
   "version": "3.9.18"
  }
 },
 "nbformat": 4,
 "nbformat_minor": 5
}
