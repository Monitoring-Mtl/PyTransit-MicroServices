{
 "cells": [
  {
   "cell_type": "code",
   "execution_count": 1,
   "id": "366143bb-05ec-41ef-a1fe-87abed7760ff",
   "metadata": {},
   "outputs": [],
   "source": [
    "import pandas as pd\n",
    "import time\n",
    "import requests\n",
    "from datetime import date"
   ]
  },
  {
   "cell_type": "code",
   "execution_count": 2,
   "id": "3bfb204a-c038-4006-a44b-6e7c48e26a86",
   "metadata": {},
   "outputs": [],
   "source": [
    "# historical data is missing the station id, so I get them from the endpoint\n",
    "def get_station_ids(): \n",
    "    r = requests.get('https://gbfs.velobixi.com/gbfs/en/station_information.json')\n",
    "    df_stations = pd.DataFrame.from_dict(r.json()['data']['stations'])\n",
    "    df_stations = df_stations[['station_id','name']]\n",
    "    df_stations['station_id'] = pd.to_numeric(df_stations['station_id'])\n",
    "    return df_stations\n"
   ]
  },
  {
   "cell_type": "code",
   "execution_count": 3,
   "id": "daee39b4-d2a6-4ac1-8812-e606f8c596ba",
   "metadata": {},
   "outputs": [],
   "source": [
    "def add_id_to_stations(df):\n",
    "    #call endpoint in order to get a json of all current stations\n",
    "    df_id = get_station_ids()\n",
    "    #merge on the station name and rename the columns/ clean up data\n",
    "    df_merged_start = df.merge(df_id, left_on = ['STARTSTATIONNAME'], right_on= ['name'])\n",
    "    df_merged_start.rename(columns={'station_id':'STARTSTATIONID'},inplace=True)\n",
    "    df_merged_start_end = df_merged_start.merge(df_id, left_on = ['ENDSTATIONNAME'], right_on= ['name'])\n",
    "    df_merged_start_end.rename(columns={'station_id':'ENDSTATIONID'},inplace=True)\n",
    "    df_merged_start_end.drop(['name_x','name_y'],axis=1, inplace=True)\n",
    "    df_merged_start_end.reset_index(inplace=True)\n",
    "    \n",
    "    return df_merged_start_end"
   ]
  },
  {
   "cell_type": "code",
   "execution_count": 4,
   "id": "0e5e39df-6364-4a46-88c3-03edc696544d",
   "metadata": {},
   "outputs": [],
   "source": [
    "#todo add column of date month year hour minute second"
   ]
  },
  {
   "cell_type": "code",
   "execution_count": 5,
   "id": "11493625-c4f6-4f53-b5c6-e08bb9a777c9",
   "metadata": {},
   "outputs": [],
   "source": [
    "# def find_delta_time_range(timestart=None, timeend=None):\n",
    "#     #calculate the time each trip took\n",
    "#     start_utc_time = datetime.strptime(timestart, \"%Y-%m-%dT%H:%M:%S.%fZ\")\n",
    "#     end_utc_time = datetime.strptime(timeend, \"%Y-%m-%dT%H:%M:%S.%fZ\")\n",
    "#     #epoch_time = (utc_time - datetime(1970, 1, 1)).total_seconds()\n",
    "#     raw_data = pd.read_csv(filename, sep=',')\n",
    "#     df = pd.DataFrame(raw_data)\n",
    "\n",
    "#     #if year is not mentionned calculate average accross all years\n",
    "\n",
    "\n",
    "#     #if month not mentioned \n",
    "#     df_rank[\"DELTATIME\"] = df_rank[\"ENDTIMEMS\"]-df_rank[\"STARTTIMEMS\"] \n",
    "#     df_rank['DELTATIME'] = pd.to_timedelta(df_rank['DELTATIME'], unit='ms')\n",
    "#     df_rank.sort_values('count',ascending=False, inplace=True)\n",
    "#     mean_df= df_rank.groupby(['STARTSTATIONNAME','ENDSTATIONNAME','count'],as_index=False)['DELTATIME'].mean()\n",
    "#     mean_df.rename(columns={'count':'NUMBEROFTRIPS'}, inplace=True)\n",
    "#     mean_df.sort_values('DELTATIME',ascending=False, inplace=True)"
   ]
  },
  {
   "cell_type": "code",
   "execution_count": 6,
   "id": "c717af79-b862-48e3-ad50-6cc787107252",
   "metadata": {},
   "outputs": [],
   "source": [
    "def find_mean_time(filename):\n",
    "    \n",
    "    #read csv and create df, dropping rows with N/A values\n",
    "    raw_data = pd.read_csv(filename, sep=',')\n",
    "    df = pd.DataFrame(raw_data)\n",
    "    df = df.dropna()\n",
    "    df = df[['STARTSTATIONNAME','ENDSTATIONNAME','STARTTIMEMS','ENDTIMEMS']]\n",
    "\n",
    "    #count number of trips between two stations and add value as new column \n",
    "    nb_trips = pd.DataFrame(df.value_counts(['STARTSTATIONNAME','ENDSTATIONNAME'])).reset_index()\n",
    "    df_rank = df.merge(nb_trips, left_on = ['STARTSTATIONNAME','ENDSTATIONNAME'], right_on= ['STARTSTATIONNAME','ENDSTATIONNAME'])     \n",
    "    df_rank.sort_values(by='STARTSTATIONNAME',inplace=True)\n",
    "\n",
    "    #calculate the time each trip took\n",
    "    df_rank[\"DELTATIME\"] = df_rank[\"ENDTIMEMS\"]-df_rank[\"STARTTIMEMS\"] \n",
    "    df_rank['DELTATIME'] = pd.to_timedelta(df_rank['DELTATIME'], unit='ms')\n",
    "    df_rank.sort_values('count',ascending=False, inplace=True)\n",
    "    mean_df= df_rank.groupby(['STARTSTATIONNAME','ENDSTATIONNAME','count'],as_index=False)['DELTATIME'].mean()\n",
    "    mean_df.rename(columns={'count':'NUMBEROFTRIPS'}, inplace=True)\n",
    "    mean_df.sort_values('DELTATIME',ascending=False, inplace=True)\n",
    "    return mean_df"
   ]
  },
  {
   "cell_type": "code",
   "execution_count": 7,
   "id": "9aa182c6-7208-49e7-9654-41bc7577cd15",
   "metadata": {},
   "outputs": [
    {
     "data": {
      "text/html": [
       "<div>\n",
       "<style scoped>\n",
       "    .dataframe tbody tr th:only-of-type {\n",
       "        vertical-align: middle;\n",
       "    }\n",
       "\n",
       "    .dataframe tbody tr th {\n",
       "        vertical-align: top;\n",
       "    }\n",
       "\n",
       "    .dataframe thead th {\n",
       "        text-align: right;\n",
       "    }\n",
       "</style>\n",
       "<table border=\"1\" class=\"dataframe\">\n",
       "  <thead>\n",
       "    <tr style=\"text-align: right;\">\n",
       "      <th></th>\n",
       "      <th>STARTSTATIONNAME</th>\n",
       "      <th>ENDSTATIONNAME</th>\n",
       "      <th>NUMBEROFTRIPS</th>\n",
       "      <th>DELTATIME</th>\n",
       "    </tr>\n",
       "  </thead>\n",
       "  <tbody>\n",
       "    <tr>\n",
       "      <th>344743</th>\n",
       "      <td>Ste-Émilie / Sir-Georges-Etienne-Cartier</td>\n",
       "      <td>10e avenue / Masson</td>\n",
       "      <td>1</td>\n",
       "      <td>166 days 05:31:53.517000</td>\n",
       "    </tr>\n",
       "    <tr>\n",
       "      <th>168747</th>\n",
       "      <td>Mairie d'arrondissement St-Laurent (Beaudet / ...</td>\n",
       "      <td>de la Peltrie / de la Côte-des-Neiges</td>\n",
       "      <td>1</td>\n",
       "      <td>91 days 22:28:00.311000</td>\n",
       "    </tr>\n",
       "    <tr>\n",
       "      <th>80582</th>\n",
       "      <td>Crescent / de Maisonneuve N/E</td>\n",
       "      <td>Métro Verdun (Willibrord / de Verdun)</td>\n",
       "      <td>2</td>\n",
       "      <td>59 days 17:25:01.657000</td>\n",
       "    </tr>\n",
       "    <tr>\n",
       "      <th>289476</th>\n",
       "      <td>Richmond / des Bassins</td>\n",
       "      <td>Gare Montpellier (Muir / de la Côte-Vertu)</td>\n",
       "      <td>1</td>\n",
       "      <td>58 days 22:53:08.858000</td>\n",
       "    </tr>\n",
       "    <tr>\n",
       "      <th>428065</th>\n",
       "      <td>du Souvenir / Chomedey</td>\n",
       "      <td>Notre-Dame-de-Grâce / Westmount</td>\n",
       "      <td>1</td>\n",
       "      <td>44 days 19:19:59.031000</td>\n",
       "    </tr>\n",
       "    <tr>\n",
       "      <th>...</th>\n",
       "      <td>...</td>\n",
       "      <td>...</td>\n",
       "      <td>...</td>\n",
       "      <td>...</td>\n",
       "    </tr>\n",
       "    <tr>\n",
       "      <th>334504</th>\n",
       "      <td>St-Viateur / Casgrain</td>\n",
       "      <td>Henri-Julien / du Carmel</td>\n",
       "      <td>3</td>\n",
       "      <td>0 days 00:01:16.196333333</td>\n",
       "    </tr>\n",
       "    <tr>\n",
       "      <th>334635</th>\n",
       "      <td>St-Viateur / Casgrain</td>\n",
       "      <td>St-Dominique / St-Viateur</td>\n",
       "      <td>2</td>\n",
       "      <td>0 days 00:01:14.273500</td>\n",
       "    </tr>\n",
       "    <tr>\n",
       "      <th>343762</th>\n",
       "      <td>Ste-Cathrine / Drummond</td>\n",
       "      <td>Ste-Cathrine / Drummond</td>\n",
       "      <td>11</td>\n",
       "      <td>0 days 00:00:50.049818181</td>\n",
       "    </tr>\n",
       "    <tr>\n",
       "      <th>387406</th>\n",
       "      <td>de Maisonneuve / Mackay</td>\n",
       "      <td>Mackay / Ste-Catherine</td>\n",
       "      <td>1</td>\n",
       "      <td>0 days 00:00:47.029000</td>\n",
       "    </tr>\n",
       "    <tr>\n",
       "      <th>34418</th>\n",
       "      <td>Bishop / de Maisonneuve S/E</td>\n",
       "      <td>Bishop / de Maisonneuve S/E</td>\n",
       "      <td>3</td>\n",
       "      <td>0 days 00:00:26.527333333</td>\n",
       "    </tr>\n",
       "  </tbody>\n",
       "</table>\n",
       "<p>430837 rows × 4 columns</p>\n",
       "</div>"
      ],
      "text/plain": [
       "                                         STARTSTATIONNAME  \\\n",
       "344743           Ste-Émilie / Sir-Georges-Etienne-Cartier   \n",
       "168747  Mairie d'arrondissement St-Laurent (Beaudet / ...   \n",
       "80582                       Crescent / de Maisonneuve N/E   \n",
       "289476                             Richmond / des Bassins   \n",
       "428065                             du Souvenir / Chomedey   \n",
       "...                                                   ...   \n",
       "334504                              St-Viateur / Casgrain   \n",
       "334635                              St-Viateur / Casgrain   \n",
       "343762                            Ste-Cathrine / Drummond   \n",
       "387406                            de Maisonneuve / Mackay   \n",
       "34418                         Bishop / de Maisonneuve S/E   \n",
       "\n",
       "                                    ENDSTATIONNAME  NUMBEROFTRIPS  \\\n",
       "344743                         10e avenue / Masson              1   \n",
       "168747       de la Peltrie / de la Côte-des-Neiges              1   \n",
       "80582        Métro Verdun (Willibrord / de Verdun)              2   \n",
       "289476  Gare Montpellier (Muir / de la Côte-Vertu)              1   \n",
       "428065             Notre-Dame-de-Grâce / Westmount              1   \n",
       "...                                            ...            ...   \n",
       "334504                    Henri-Julien / du Carmel              3   \n",
       "334635                   St-Dominique / St-Viateur              2   \n",
       "343762                     Ste-Cathrine / Drummond             11   \n",
       "387406                      Mackay / Ste-Catherine              1   \n",
       "34418                  Bishop / de Maisonneuve S/E              3   \n",
       "\n",
       "                       DELTATIME  \n",
       "344743  166 days 05:31:53.517000  \n",
       "168747   91 days 22:28:00.311000  \n",
       "80582    59 days 17:25:01.657000  \n",
       "289476   58 days 22:53:08.858000  \n",
       "428065   44 days 19:19:59.031000  \n",
       "...                          ...  \n",
       "334504 0 days 00:01:16.196333333  \n",
       "334635    0 days 00:01:14.273500  \n",
       "343762 0 days 00:00:50.049818181  \n",
       "387406    0 days 00:00:47.029000  \n",
       "34418  0 days 00:00:26.527333333  \n",
       "\n",
       "[430837 rows x 4 columns]"
      ]
     },
     "execution_count": 7,
     "metadata": {},
     "output_type": "execute_result"
    }
   ],
   "source": [
    "df= find_mean_time('DonneesOuvertes2023.csv')\n",
    "df"
   ]
  },
  {
   "cell_type": "code",
   "execution_count": 8,
   "id": "8c4d5e00-a167-45f6-b896-e5479c324cd0",
   "metadata": {},
   "outputs": [],
   "source": [
    "df2= add_id_to_stations(df)\n"
   ]
  },
  {
   "cell_type": "code",
   "execution_count": 9,
   "id": "e58b666f-9c9f-4af4-a836-f679ff880fd4",
   "metadata": {},
   "outputs": [],
   "source": [
    "df2.to_csv('average_time_between_stations.csv',index=False)"
   ]
  },
  {
   "cell_type": "code",
   "execution_count": null,
   "id": "ad9faaa2-498f-4b31-bd87-bf31084f9bd1",
   "metadata": {},
   "outputs": [],
   "source": []
  },
  {
   "cell_type": "code",
   "execution_count": 10,
   "id": "1b3363e9-be1b-48d5-9842-ba8d2cd3785b",
   "metadata": {},
   "outputs": [],
   "source": [
    "def find_station_most_popular_destination(name):\n",
    "    return df2[df2['STARTSTATIONNAME']==name].sort_values(by=\"NUMBEROFTRIPS\", ascending=False).head(n=1)"
   ]
  },
  {
   "cell_type": "code",
   "execution_count": 11,
   "id": "6504e7be-5ba5-429a-8c5d-7d89925fdd84",
   "metadata": {},
   "outputs": [
    {
     "data": {
      "text/html": [
       "<div>\n",
       "<style scoped>\n",
       "    .dataframe tbody tr th:only-of-type {\n",
       "        vertical-align: middle;\n",
       "    }\n",
       "\n",
       "    .dataframe tbody tr th {\n",
       "        vertical-align: top;\n",
       "    }\n",
       "\n",
       "    .dataframe thead th {\n",
       "        text-align: right;\n",
       "    }\n",
       "</style>\n",
       "<table border=\"1\" class=\"dataframe\">\n",
       "  <thead>\n",
       "    <tr style=\"text-align: right;\">\n",
       "      <th></th>\n",
       "      <th>index</th>\n",
       "      <th>STARTSTATIONNAME</th>\n",
       "      <th>ENDSTATIONNAME</th>\n",
       "      <th>NUMBEROFTRIPS</th>\n",
       "      <th>DELTATIME</th>\n",
       "      <th>STARTSTATIONID</th>\n",
       "      <th>ENDSTATIONID</th>\n",
       "    </tr>\n",
       "  </thead>\n",
       "  <tbody>\n",
       "    <tr>\n",
       "      <th>19945</th>\n",
       "      <td>19945</td>\n",
       "      <td>Peel / Notre-Dame</td>\n",
       "      <td>Peel / Notre-Dame</td>\n",
       "      <td>1400</td>\n",
       "      <td>0 days 00:13:13.577770</td>\n",
       "      <td>77</td>\n",
       "      <td>77</td>\n",
       "    </tr>\n",
       "  </tbody>\n",
       "</table>\n",
       "</div>"
      ],
      "text/plain": [
       "       index   STARTSTATIONNAME     ENDSTATIONNAME  NUMBEROFTRIPS  \\\n",
       "19945  19945  Peel / Notre-Dame  Peel / Notre-Dame           1400   \n",
       "\n",
       "                   DELTATIME  STARTSTATIONID  ENDSTATIONID  \n",
       "19945 0 days 00:13:13.577770              77            77  "
      ]
     },
     "execution_count": 11,
     "metadata": {},
     "output_type": "execute_result"
    }
   ],
   "source": [
    "find_station_most_popular_destination(\"Peel / Notre-Dame\")"
   ]
  },
  {
   "cell_type": "code",
   "execution_count": null,
   "id": "fabdfb61-53c5-4b8c-893e-33d6e4453f33",
   "metadata": {},
   "outputs": [],
   "source": [
    "def find_station_most_popular_destination_id(id):\n",
    "    return df2[df2['STARTSTATIONID']==id].sort_values(by=\"NUMBEROFTRIPS\", ascending=False).head(n=1)"
   ]
  },
  {
   "cell_type": "code",
   "execution_count": null,
   "id": "c36c8d96-916e-46bf-ace8-c57a829ed5a4",
   "metadata": {
    "scrolled": true
   },
   "outputs": [],
   "source": [
    "find_station_most_popular_destination_id(421)"
   ]
  },
  {
   "cell_type": "code",
   "execution_count": null,
   "id": "dd29179a-bdb0-44dc-9920-e9ac6aef1b1e",
   "metadata": {},
   "outputs": [],
   "source": []
  },
  {
   "cell_type": "code",
   "execution_count": null,
   "id": "9893d2ea-b44e-47dc-92da-8748f4740f41",
   "metadata": {},
   "outputs": [],
   "source": [
    "def lambda_handler(event, context):\n",
    "    raw_data = pd.read_csv('DonneesOuvertes2023.csv', sep=',')\n",
    "    "
   ]
  },
  {
   "cell_type": "code",
   "execution_count": null,
   "id": "7b2d9e83-060e-44f3-a20b-d6f871ef1ba8",
   "metadata": {},
   "outputs": [],
   "source": []
  }
 ],
 "metadata": {
  "kernelspec": {
   "display_name": "Python 3 (ipykernel)",
   "language": "python",
   "name": "python3"
  },
  "language_info": {
   "codemirror_mode": {
    "name": "ipython",
    "version": 3
   },
   "file_extension": ".py",
   "mimetype": "text/x-python",
   "name": "python",
   "nbconvert_exporter": "python",
   "pygments_lexer": "ipython3",
   "version": "3.9.18"
  }
 },
 "nbformat": 4,
 "nbformat_minor": 5
}
