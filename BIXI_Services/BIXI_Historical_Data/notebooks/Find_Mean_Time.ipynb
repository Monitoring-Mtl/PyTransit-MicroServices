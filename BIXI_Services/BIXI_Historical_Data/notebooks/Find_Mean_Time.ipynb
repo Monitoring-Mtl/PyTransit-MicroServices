{
 "cells": [
  {
   "cell_type": "code",
   "execution_count": 1,
   "id": "366143bb-05ec-41ef-a1fe-87abed7760ff",
   "metadata": {},
   "outputs": [],
   "source": [
    "import pandas as pd\n",
    "import time\n",
    "import requests\n",
    "from datetime import date"
   ]
  },
  {
   "cell_type": "code",
   "execution_count": 2,
   "id": "3bfb204a-c038-4006-a44b-6e7c48e26a86",
   "metadata": {},
   "outputs": [],
   "source": [
    "# historical data is missing the station id, so I get them from the endpoint\n",
    "def get_station_ids(): \n",
    "    r = requests.get('https://gbfs.velobixi.com/gbfs/en/station_information.json')\n",
    "    df_stations = pd.DataFrame.from_dict(r.json()['data']['stations'])\n",
    "    df_stations = df_stations[['station_id','name']]\n",
    "    df_stations['station_id'] = pd.to_numeric(df_stations['station_id'])\n",
    "    return df_stations\n"
   ]
  },
  {
   "cell_type": "code",
   "execution_count": 3,
   "id": "daee39b4-d2a6-4ac1-8812-e606f8c596ba",
   "metadata": {},
   "outputs": [],
   "source": [
    "def add_id_to_stations(df):\n",
    "    #call endpoint in order to get a json of all current stations\n",
    "    df_id = get_station_ids()\n",
    "    #merge on the station name and rename the columns/ clean up data\n",
    "    df_merged_start = df.merge(df_id, left_on = ['STARTSTATIONNAME'], right_on= ['name'])\n",
    "    df_merged_start.rename(columns={'station_id':'STARTSTATIONID'},inplace=True)\n",
    "    df_merged_start_end = df_merged_start.merge(df_id, left_on = ['ENDSTATIONNAME'], right_on= ['name'])\n",
    "    df_merged_start_end.rename(columns={'station_id':'ENDSTATIONID'},inplace=True)\n",
    "    df_merged_start_end.drop(['name_x','name_y'],axis=1, inplace=True)\n",
    "    df_merged_start_end.reset_index(inplace=True)\n",
    "    \n",
    "    return df_merged_start_end"
   ]
  },
  {
   "cell_type": "code",
   "execution_count": 4,
   "id": "0e5e39df-6364-4a46-88c3-03edc696544d",
   "metadata": {},
   "outputs": [],
   "source": [
    "#todo add column of date month year hour minute second"
   ]
  },
  {
   "cell_type": "code",
   "execution_count": 5,
   "id": "11493625-c4f6-4f53-b5c6-e08bb9a777c9",
   "metadata": {},
   "outputs": [],
   "source": [
    "# def find_delta_time_range(timestart=None, timeend=None):\n",
    "#     #calculate the time each trip took\n",
    "#     start_utc_time = datetime.strptime(timestart, \"%Y-%m-%dT%H:%M:%S.%fZ\")\n",
    "#     end_utc_time = datetime.strptime(timeend, \"%Y-%m-%dT%H:%M:%S.%fZ\")\n",
    "#     #epoch_time = (utc_time - datetime(1970, 1, 1)).total_seconds()\n",
    "#     raw_data = pd.read_csv(filename, sep=',')\n",
    "#     df = pd.DataFrame(raw_data)\n",
    "\n",
    "#     #if year is not mentionned calculate average accross all years\n",
    "\n",
    "\n",
    "#     #if month not mentioned \n",
    "#     df_rank[\"DELTATIME\"] = df_rank[\"ENDTIMEMS\"]-df_rank[\"STARTTIMEMS\"] \n",
    "#     df_rank['DELTATIME'] = pd.to_timedelta(df_rank['DELTATIME'], unit='ms')\n",
    "#     df_rank.sort_values('count',ascending=False, inplace=True)\n",
    "#     mean_df= df_rank.groupby(['STARTSTATIONNAME','ENDSTATIONNAME','count'],as_index=False)['DELTATIME'].mean()\n",
    "#     mean_df.rename(columns={'count':'NUMBEROFTRIPS'}, inplace=True)\n",
    "#     mean_df.sort_values('DELTATIME',ascending=False, inplace=True)"
   ]
  },
  {
   "cell_type": "code",
   "execution_count": 6,
   "id": "c717af79-b862-48e3-ad50-6cc787107252",
   "metadata": {},
   "outputs": [],
   "source": [
    "def find_mean_time(filename):\n",
    "    \n",
    "    #read csv and create df, dropping rows with N/A values\n",
    "    raw_data = pd.read_csv(filename, sep=',')\n",
    "    df = pd.DataFrame(raw_data)\n",
    "    df = df.dropna()\n",
    "    df = df[['STARTSTATIONNAME','ENDSTATIONNAME','STARTTIMEMS','ENDTIMEMS']]\n",
    "\n",
    "    #count number of trips between two stations and add value as new column \n",
    "    nb_trips = pd.DataFrame(df.value_counts(['STARTSTATIONNAME','ENDSTATIONNAME'])).reset_index()\n",
    "    df_rank = df.merge(nb_trips, left_on = ['STARTSTATIONNAME','ENDSTATIONNAME'], right_on= ['STARTSTATIONNAME','ENDSTATIONNAME'])     \n",
    "    df_rank.sort_values(by='STARTSTATIONNAME',inplace=True)\n",
    "\n",
    "    #calculate the time each trip took\n",
    "    df_rank[\"DELTATIME\"] = df_rank[\"ENDTIMEMS\"]-df_rank[\"STARTTIMEMS\"] \n",
    "    df_rank['DELTATIME'] = pd.to_timedelta(df_rank['DELTATIME'], unit='ms')\n",
    "    df_rank.sort_values('count',ascending=False, inplace=True)\n",
    "    mean_df= df_rank.groupby(['STARTSTATIONNAME','ENDSTATIONNAME','count'],as_index=False)['DELTATIME'].mean()\n",
    "    mean_df.rename(columns={'count':'NUMBEROFTRIPS'}, inplace=True)\n",
    "    mean_df.sort_values('DELTATIME',ascending=False, inplace=True)\n",
    "    return mean_df"
   ]
  },
  {
   "cell_type": "code",
   "execution_count": 7,
   "id": "9aa182c6-7208-49e7-9654-41bc7577cd15",
   "metadata": {},
   "outputs": [
    {
     "data": {
      "text/html": [
       "<div>\n",
       "<style scoped>\n",
       "    .dataframe tbody tr th:only-of-type {\n",
       "        vertical-align: middle;\n",
       "    }\n",
       "\n",
       "    .dataframe tbody tr th {\n",
       "        vertical-align: top;\n",
       "    }\n",
       "\n",
       "    .dataframe thead th {\n",
       "        text-align: right;\n",
       "    }\n",
       "</style>\n",
       "<table border=\"1\" class=\"dataframe\">\n",
       "  <thead>\n",
       "    <tr style=\"text-align: right;\">\n",
       "      <th></th>\n",
       "      <th>STARTSTATIONNAME</th>\n",
       "      <th>ENDSTATIONNAME</th>\n",
       "      <th>NUMBEROFTRIPS</th>\n",
       "      <th>DELTATIME</th>\n",
       "    </tr>\n",
       "  </thead>\n",
       "  <tbody>\n",
       "    <tr>\n",
       "      <th>6016</th>\n",
       "      <td>Papineau / Émile-Journault</td>\n",
       "      <td>Marmier / St-Denis</td>\n",
       "      <td>4</td>\n",
       "      <td>10 days 18:39:54.655250</td>\n",
       "    </tr>\n",
       "    <tr>\n",
       "      <th>940</th>\n",
       "      <td>Cartier / Marie-Anne</td>\n",
       "      <td>Marmier / St-Denis</td>\n",
       "      <td>11</td>\n",
       "      <td>4 days 19:26:08.195909090</td>\n",
       "    </tr>\n",
       "    <tr>\n",
       "      <th>3713</th>\n",
       "      <td>Messier / St-Joseph</td>\n",
       "      <td>Roy / St-André</td>\n",
       "      <td>6</td>\n",
       "      <td>4 days 12:45:42.920500</td>\n",
       "    </tr>\n",
       "    <tr>\n",
       "      <th>7537</th>\n",
       "      <td>Robert-Bourassa / St-Maurice</td>\n",
       "      <td>Métro St-Laurent ( de Maisonneuve / St-Laurent)</td>\n",
       "      <td>4</td>\n",
       "      <td>4 days 10:57:09.895500</td>\n",
       "    </tr>\n",
       "    <tr>\n",
       "      <th>5607</th>\n",
       "      <td>Métro Viau ( Pierre-de-Coubertin / Viau)</td>\n",
       "      <td>Métro Laurier (Berri / St-Joseph)</td>\n",
       "      <td>1</td>\n",
       "      <td>3 days 23:37:35.312000</td>\n",
       "    </tr>\n",
       "    <tr>\n",
       "      <th>...</th>\n",
       "      <td>...</td>\n",
       "      <td>...</td>\n",
       "      <td>...</td>\n",
       "      <td>...</td>\n",
       "    </tr>\n",
       "    <tr>\n",
       "      <th>7293</th>\n",
       "      <td>René-Lévesque / Papineau</td>\n",
       "      <td>René-Lévesque / Papineau</td>\n",
       "      <td>7</td>\n",
       "      <td>0 days 00:00:51.541857142</td>\n",
       "    </tr>\n",
       "    <tr>\n",
       "      <th>10859</th>\n",
       "      <td>de Maisonneuve / Mansfield (nord)</td>\n",
       "      <td>de Maisonneuve / Mansfield (nord)</td>\n",
       "      <td>7</td>\n",
       "      <td>0 days 00:00:50.751142857</td>\n",
       "    </tr>\n",
       "    <tr>\n",
       "      <th>11047</th>\n",
       "      <td>de Maisonneuve / Mansfield (sud-est)</td>\n",
       "      <td>de Maisonneuve / Mansfield (sud)</td>\n",
       "      <td>1</td>\n",
       "      <td>0 days 00:00:43.662000</td>\n",
       "    </tr>\n",
       "    <tr>\n",
       "      <th>721</th>\n",
       "      <td>CHSLD Joseph-François-Perrault (St-Michel / Ev...</td>\n",
       "      <td>CHSLD Joseph-François-Perrault (St-Michel / Ev...</td>\n",
       "      <td>16</td>\n",
       "      <td>0 days 00:00:35.012562500</td>\n",
       "    </tr>\n",
       "    <tr>\n",
       "      <th>2721</th>\n",
       "      <td>La Tour de Montréal (Pierre-de-Coubertin / Ben...</td>\n",
       "      <td>La Tour de Montréal (Pierre-de-Coubertin / Ben...</td>\n",
       "      <td>11</td>\n",
       "      <td>0 days 00:00:23.599272727</td>\n",
       "    </tr>\n",
       "  </tbody>\n",
       "</table>\n",
       "<p>12749 rows × 4 columns</p>\n",
       "</div>"
      ],
      "text/plain": [
       "                                        STARTSTATIONNAME  \\\n",
       "6016                          Papineau / Émile-Journault   \n",
       "940                                 Cartier / Marie-Anne   \n",
       "3713                                 Messier / St-Joseph   \n",
       "7537                        Robert-Bourassa / St-Maurice   \n",
       "5607            Métro Viau ( Pierre-de-Coubertin / Viau)   \n",
       "...                                                  ...   \n",
       "7293                            René-Lévesque / Papineau   \n",
       "10859                  de Maisonneuve / Mansfield (nord)   \n",
       "11047               de Maisonneuve / Mansfield (sud-est)   \n",
       "721    CHSLD Joseph-François-Perrault (St-Michel / Ev...   \n",
       "2721   La Tour de Montréal (Pierre-de-Coubertin / Ben...   \n",
       "\n",
       "                                          ENDSTATIONNAME  NUMBEROFTRIPS  \\\n",
       "6016                                  Marmier / St-Denis              4   \n",
       "940                                   Marmier / St-Denis             11   \n",
       "3713                                      Roy / St-André              6   \n",
       "7537     Métro St-Laurent ( de Maisonneuve / St-Laurent)              4   \n",
       "5607                   Métro Laurier (Berri / St-Joseph)              1   \n",
       "...                                                  ...            ...   \n",
       "7293                            René-Lévesque / Papineau              7   \n",
       "10859                  de Maisonneuve / Mansfield (nord)              7   \n",
       "11047                   de Maisonneuve / Mansfield (sud)              1   \n",
       "721    CHSLD Joseph-François-Perrault (St-Michel / Ev...             16   \n",
       "2721   La Tour de Montréal (Pierre-de-Coubertin / Ben...             11   \n",
       "\n",
       "                      DELTATIME  \n",
       "6016    10 days 18:39:54.655250  \n",
       "940   4 days 19:26:08.195909090  \n",
       "3713     4 days 12:45:42.920500  \n",
       "7537     4 days 10:57:09.895500  \n",
       "5607     3 days 23:37:35.312000  \n",
       "...                         ...  \n",
       "7293  0 days 00:00:51.541857142  \n",
       "10859 0 days 00:00:50.751142857  \n",
       "11047    0 days 00:00:43.662000  \n",
       "721   0 days 00:00:35.012562500  \n",
       "2721  0 days 00:00:23.599272727  \n",
       "\n",
       "[12749 rows x 4 columns]"
      ]
     },
     "execution_count": 7,
     "metadata": {},
     "output_type": "execute_result"
    }
   ],
   "source": [
    "df= find_mean_time('2024/DonneesOuvertes2024_0102.csv')\n",
    "df"
   ]
  },
  {
   "cell_type": "code",
   "execution_count": 8,
   "id": "8c4d5e00-a167-45f6-b896-e5479c324cd0",
   "metadata": {},
   "outputs": [],
   "source": [
    "df2= add_id_to_stations(df)\n"
   ]
  },
  {
   "cell_type": "code",
   "execution_count": 9,
   "id": "e58b666f-9c9f-4af4-a836-f679ff880fd4",
   "metadata": {},
   "outputs": [],
   "source": [
    "df2.to_csv('average_time_between_stations.csv',index=False)"
   ]
  },
  {
   "cell_type": "code",
   "execution_count": null,
   "id": "ad9faaa2-498f-4b31-bd87-bf31084f9bd1",
   "metadata": {},
   "outputs": [],
   "source": []
  },
  {
   "cell_type": "code",
   "execution_count": 10,
   "id": "1b3363e9-be1b-48d5-9842-ba8d2cd3785b",
   "metadata": {},
   "outputs": [],
   "source": [
    "def find_station_most_popular_destination(name):\n",
    "    return df2[df2['STARTSTATIONNAME']==name].sort_values(by=\"NUMBEROFTRIPS\", ascending=False).head(n=1)"
   ]
  },
  {
   "cell_type": "code",
   "execution_count": 11,
   "id": "6504e7be-5ba5-429a-8c5d-7d89925fdd84",
   "metadata": {},
   "outputs": [
    {
     "data": {
      "text/html": [
       "<div>\n",
       "<style scoped>\n",
       "    .dataframe tbody tr th:only-of-type {\n",
       "        vertical-align: middle;\n",
       "    }\n",
       "\n",
       "    .dataframe tbody tr th {\n",
       "        vertical-align: top;\n",
       "    }\n",
       "\n",
       "    .dataframe thead th {\n",
       "        text-align: right;\n",
       "    }\n",
       "</style>\n",
       "<table border=\"1\" class=\"dataframe\">\n",
       "  <thead>\n",
       "    <tr style=\"text-align: right;\">\n",
       "      <th></th>\n",
       "      <th>index</th>\n",
       "      <th>STARTSTATIONNAME</th>\n",
       "      <th>ENDSTATIONNAME</th>\n",
       "      <th>NUMBEROFTRIPS</th>\n",
       "      <th>DELTATIME</th>\n",
       "      <th>STARTSTATIONID</th>\n",
       "      <th>ENDSTATIONID</th>\n",
       "    </tr>\n",
       "  </thead>\n",
       "  <tbody>\n",
       "    <tr>\n",
       "      <th>10123</th>\n",
       "      <td>10123</td>\n",
       "      <td>Peel / Notre-Dame</td>\n",
       "      <td>McTavish / Sherbrooke</td>\n",
       "      <td>51</td>\n",
       "      <td>0 days 00:10:38.216411764</td>\n",
       "      <td>77</td>\n",
       "      <td>608</td>\n",
       "    </tr>\n",
       "  </tbody>\n",
       "</table>\n",
       "</div>"
      ],
      "text/plain": [
       "       index   STARTSTATIONNAME         ENDSTATIONNAME  NUMBEROFTRIPS  \\\n",
       "10123  10123  Peel / Notre-Dame  McTavish / Sherbrooke             51   \n",
       "\n",
       "                      DELTATIME  STARTSTATIONID  ENDSTATIONID  \n",
       "10123 0 days 00:10:38.216411764              77           608  "
      ]
     },
     "execution_count": 11,
     "metadata": {},
     "output_type": "execute_result"
    }
   ],
   "source": [
    "find_station_most_popular_destination(\"Peel / Notre-Dame\")"
   ]
  },
  {
   "cell_type": "code",
   "execution_count": null,
   "id": "fabdfb61-53c5-4b8c-893e-33d6e4453f33",
   "metadata": {},
   "outputs": [],
   "source": [
    "def find_station_most_popular_destination_id(id):\n",
    "    return df2[df2['STARTSTATIONID']==id].sort_values(by=\"NUMBEROFTRIPS\", ascending=False).head(n=1)"
   ]
  },
  {
   "cell_type": "code",
   "execution_count": null,
   "id": "c36c8d96-916e-46bf-ace8-c57a829ed5a4",
   "metadata": {
    "scrolled": true
   },
   "outputs": [],
   "source": [
    "find_station_most_popular_destination_id(421)"
   ]
  },
  {
   "cell_type": "code",
   "execution_count": null,
   "id": "dd29179a-bdb0-44dc-9920-e9ac6aef1b1e",
   "metadata": {},
   "outputs": [],
   "source": []
  },
  {
   "cell_type": "code",
   "execution_count": null,
   "id": "9893d2ea-b44e-47dc-92da-8748f4740f41",
   "metadata": {},
   "outputs": [],
   "source": [
    "def lambda_handler(event, context):\n",
    "    raw_data = pd.read_csv('DonneesOuvertes2023.csv', sep=',')\n",
    "    "
   ]
  },
  {
   "cell_type": "code",
   "execution_count": null,
   "id": "7b2d9e83-060e-44f3-a20b-d6f871ef1ba8",
   "metadata": {},
   "outputs": [],
   "source": []
  }
 ],
 "metadata": {
  "kernelspec": {
   "display_name": "Python 3 (ipykernel)",
   "language": "python",
   "name": "python3"
  },
  "language_info": {
   "codemirror_mode": {
    "name": "ipython",
    "version": 3
   },
   "file_extension": ".py",
   "mimetype": "text/x-python",
   "name": "python",
   "nbconvert_exporter": "python",
   "pygments_lexer": "ipython3",
   "version": "3.11.8"
  }
 },
 "nbformat": 4,
 "nbformat_minor": 5
}
